{
  "nbformat": 4,
  "nbformat_minor": 0,
  "metadata": {
    "colab": {
      "provenance": []
    },
    "kernelspec": {
      "name": "python3",
      "display_name": "Python 3"
    },
    "language_info": {
      "name": "python"
    }
  },
  "cells": [
    {
      "cell_type": "code",
      "execution_count": 30,
      "metadata": {
        "colab": {
          "base_uri": "https://localhost:8080/"
        },
        "id": "DPuSMvCvhZ8u",
        "outputId": "d47bc28a-5b3b-4f60-fc21-5da1158d8308"
      },
      "outputs": [
        {
          "output_type": "stream",
          "name": "stdout",
          "text": [
            "Enter an integer between 5 and 15: 5\n",
            "The elements in the list are: 39, 47, 17, 42, 43\n",
            "The sum is: 188\n"
          ]
        }
      ],
      "source": [
        "#Name: Jayden Mohacsi\n",
        "#Date: 03/09/2023\n",
        "#Description: Create random list based on input and sum items in list\n",
        "\n",
        "import numpy as np\n",
        "\n",
        "def random_list(n):\n",
        "  return np.random.randint(10,50, size = n).tolist()\n",
        "\n",
        "def sum_random(arr):\n",
        "  return sum(arr)\n",
        "\n",
        "while(True):\n",
        "  try:\n",
        "    n = int(input(\"Enter an integer between 5 and 15: \"))\n",
        "    if (n >= 5 and n <= 15): break\n",
        "  except:\n",
        "    pass\n",
        "\n",
        "\n",
        "ranli = random_list(n)\n",
        "print(\"The elements in the list are: {}\".format(\", \".join(str(x) for x in ranli)))\n",
        "\n",
        "randomsum = sum_random(ranli)\n",
        "print(\"The sum is: {}\".format(randomsum))\n"
      ]
    },
    {
      "cell_type": "code",
      "source": [],
      "metadata": {
        "id": "1dlV5aiYxu_K"
      },
      "execution_count": null,
      "outputs": []
    }
  ]
}